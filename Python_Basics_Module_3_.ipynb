{
  "nbformat": 4,
  "nbformat_minor": 0,
  "metadata": {
    "colab": {
      "provenance": []
    },
    "kernelspec": {
      "name": "python3",
      "display_name": "Python 3"
    },
    "language_info": {
      "name": "python"
    }
  },
  "cells": [
    {
      "cell_type": "markdown",
      "source": [
        "Python Basics Module 3"
      ],
      "metadata": {
        "id": "UKt_LVFOqi_2"
      }
    },
    {
      "cell_type": "markdown",
      "source": [
        "1. What is python, and why is it popular?\n",
        "  - Python is an interpreted, high-level programming language that is simple and easy to read. It is widely used because of its simple syntax, flexibility, and vast libraries, making it suitable for web development, data analysis, artificial intelligence, automation, and many more. Its popularity stems from its extensive community and versatility of applications.\n",
        "\n",
        "2. What is an interpreter in Python?\n",
        "   - An interpreter in Python is a program running on a computer that executes Python code line by line and interprets it into machine code. It allows for immediate code execution, and therefore Python is an interpreted language.\n",
        "\n",
        "3. What are pre-defined keywords in Python?\n",
        "   - In Python, predefined keywords are reserved words that carry specific meanings and are utilized to specify the syntax and structure of the language. These keywords cannot be used as variable names. Some of the prominent examples are \\\"if\\\", \\\"else\\\", \\\"while\\\", \\\"for\\\", \\\"def\\\", \\\"class\\\", \\\"import\\\", \\\"True\\\", \\\"False\\\", \\\"None\\\", and \\\"return\\\". These keywords manage control flow, specify functions, manage exceptions, and do a lot more.\n",
        "\n",
        "4. Can keywords be used as variable names?\n",
        "   - No, keywords cannot be used as variable names in Python. They are reserved words with special meanings that define the languages syntax and structure. Using them as variable names will result in a syntax error.\n",
        "\n",
        "5. What is mutability in Python?\n",
        "   - Mutability in Python refers to whether an objects value can be changed after creation. Mutable objects (e.g., lists, dictionaries, sets) can be modified, while immutable objects (e.g., strings, tuples, integers) cannot be altered once created.\n",
        "\n",
        "6. Why are lists mutable, but tuples are immutable?\n",
        "   - Lists are mutable because they are designed for dynamic data, allowing modifications like adding, removing, or changing elements. Tuples are immutable to ensure data integrity and allow for hashable keys in dictionaries, making them more memory-efficient and faster.\n",
        "\n",
        "7. What are the difference between \"==\" and \"is\" operetors in Python?\n",
        "   - The \\\"==\\\" operator checks if values of two objects are equal, while the \\\"is\\\" operator checks if they refer to the same memory location (identity).\n",
        "\n",
        "8. What are logical opereters in Python?\n",
        "   - Logical operators in Python are used to combine conditional statements. They include:\n",
        "    \"- **and**: Returns 'True' if both conditions are true.,\n",
        "    \"- **or**: Returns 'True' if at least one condition is true.,\n",
        "    \"- **not**: Returns 'True' if the condition is false, and vice versa.\n",
        "    These operators are commonly used in decision-making and control flow.\n",
        "\n",
        "9. What is type casting in Python?\n",
        "   - Type casting in Python is the process of converting one data type into another. It can be done using functions like int(), float(), str(), list(), and tuple(). For example, int(\\\"10\\\") converts the string \\\"10\\\" into an integer.\n",
        "\n",
        "10. What is the difference between implicit and explicit type casting?\n",
        "   - Implicit type casting is done automatically by Python, where it converts a smaller data type to a larger one (e.g., int to float) to avoid data loss.\n",
        "    Explicit type casting is manually done by the programmer using functions like int(), float(), or str() to convert between data types.\n",
        "\n",
        "11. What is the purpose of conditional statements in Python?\n",
        "   - Conditional statements in Python are used to execute specific code blocks based on whether a condition is true or false. They control the flow of the program using if, elif, and else statements.\n",
        "\n",
        "12. How does the elif statement work?\n",
        "   - The elif statement in Python is used to check multiple conditions after an if statement. If the if condition is False, Python checks the elif condition. If its True, the corresponding block executes. Multiple elif statements can be used, and an optional else can handle cases when none are True.\n",
        "\n",
        "13. What is the difference between for and while loops?\n",
        "   - : A **for loop** is used for iterating over a sequence (e.g., list, tuple, string) and runs a fixed number of times.\n",
        "    A **while loop** executes as long as a condition is true, making it suitable for indeterminate iterations.\n",
        "\n",
        "14. Describe a scenario where a while loop is more suitable than a for loop?\n",
        "   - A **while loop** is more suitable when the number of iterations is unknown beforehand. For example, reading user input until they enter a valid value or processing data until a condition is met.\n",
        "\n",
        "\n"
      ],
      "metadata": {
        "id": "l8ogLoxMq1em"
      }
    },
    {
      "cell_type": "markdown",
      "source": [
        "1. Write a Python program to print \"Hello, World!\""
      ],
      "metadata": {
        "id": "Cl8U9UVzzWaG"
      }
    },
    {
      "cell_type": "code",
      "source": [
        "print(\"Hello,World!\")"
      ],
      "metadata": {
        "colab": {
          "base_uri": "https://localhost:8080/"
        },
        "id": "jE4w0UV_2e4l",
        "outputId": "94db568b-4e48-4e79-fbda-662453134171"
      },
      "execution_count": 4,
      "outputs": [
        {
          "output_type": "stream",
          "name": "stdout",
          "text": [
            "Hello,World!\n"
          ]
        }
      ]
    },
    {
      "cell_type": "markdown",
      "source": [
        "   2. Write a python program that displays your name and age."
      ],
      "metadata": {
        "id": "v9W0rUq82wrt"
      }
    },
    {
      "cell_type": "code",
      "source": [
        "name = \"Krishnendu Biswas\"\n",
        "age = 25\n",
        "\n",
        "print(\"Name:\", name)\n",
        "print(\"Age:\", age)"
      ],
      "metadata": {
        "colab": {
          "base_uri": "https://localhost:8080/"
        },
        "id": "HQ4q9eLG4xsW",
        "outputId": "58765f57-86db-4e64-9f14-85db28d90005"
      },
      "execution_count": 9,
      "outputs": [
        {
          "output_type": "stream",
          "name": "stdout",
          "text": [
            "Name: Krishnendu Biswas\n",
            "Age: 25\n"
          ]
        }
      ]
    },
    {
      "cell_type": "markdown",
      "source": [
        "    3. Write code to print all the pre-defined keywords in Python using the keyword library."
      ],
      "metadata": {
        "id": "02i7n36X6QFN"
      }
    },
    {
      "cell_type": "code",
      "source": [
        "import keyword\n",
        "keyword.kwlist"
      ],
      "metadata": {
        "colab": {
          "base_uri": "https://localhost:8080/"
        },
        "id": "zNnzmsM49Bh-",
        "outputId": "fcc29d59-03e5-4079-de57-61e089a2355f"
      },
      "execution_count": 10,
      "outputs": [
        {
          "output_type": "execute_result",
          "data": {
            "text/plain": [
              "['False',\n",
              " 'None',\n",
              " 'True',\n",
              " 'and',\n",
              " 'as',\n",
              " 'assert',\n",
              " 'async',\n",
              " 'await',\n",
              " 'break',\n",
              " 'class',\n",
              " 'continue',\n",
              " 'def',\n",
              " 'del',\n",
              " 'elif',\n",
              " 'else',\n",
              " 'except',\n",
              " 'finally',\n",
              " 'for',\n",
              " 'from',\n",
              " 'global',\n",
              " 'if',\n",
              " 'import',\n",
              " 'in',\n",
              " 'is',\n",
              " 'lambda',\n",
              " 'nonlocal',\n",
              " 'not',\n",
              " 'or',\n",
              " 'pass',\n",
              " 'raise',\n",
              " 'return',\n",
              " 'try',\n",
              " 'while',\n",
              " 'with',\n",
              " 'yield']"
            ]
          },
          "metadata": {},
          "execution_count": 10
        }
      ]
    },
    {
      "cell_type": "markdown",
      "source": [
        "  4. Write a program that checks if a given word is a Python keyword."
      ],
      "metadata": {
        "id": "QL-5bJTY9Lal"
      }
    },
    {
      "cell_type": "code",
      "source": [
        "word_to_check = \"if\"\n",
        "if word_to_check in keyword.kwlist:\n",
        "    print(f\"\\\"{word_to_check}\\\" is a Python keyword.\")\n",
        "else:\n",
        "    print(f\"\\\"{word_to_check}\\\" is not a Python keyword.\")"
      ],
      "metadata": {
        "colab": {
          "base_uri": "https://localhost:8080/"
        },
        "id": "3wQw3BqA-H89",
        "outputId": "db1835e1-d5ef-4a04-f641-9f2f43696100"
      },
      "execution_count": 12,
      "outputs": [
        {
          "output_type": "stream",
          "name": "stdout",
          "text": [
            "\"if\" is a Python keyword.\n"
          ]
        }
      ]
    },
    {
      "cell_type": "markdown",
      "source": [
        "   5. Create a list and tuple in Python, and demonstrate how attempting to change an element works differently for each."
      ],
      "metadata": {
        "id": "yn1d1Qu5AU2V"
      }
    },
    {
      "cell_type": "code",
      "source": [
        "my_list = [1, 2, 3, 4, 5]\n",
        "print(\"Original list:\", my_list)\n",
        "my_list[0] = 10\n",
        "print(\"List after changing an element:\", my_list)\n",
        "my_tuple = (1, 2, 3, 4, 5)\n",
        "print(\"\\nOriginal tuple:\", my_tuple)\n",
        "try:\n",
        "  my_tuple[0] = 10\n",
        "except TypeError as e:\n",
        "  print(\"Attempting to change an element in the tuple failed:\", e)"
      ],
      "metadata": {
        "colab": {
          "base_uri": "https://localhost:8080/"
        },
        "id": "njQpGCrqBFiV",
        "outputId": "83e1524d-4fd3-4319-b779-9e75f2211640"
      },
      "execution_count": 14,
      "outputs": [
        {
          "output_type": "stream",
          "name": "stdout",
          "text": [
            "Original list: [1, 2, 3, 4, 5]\n",
            "List after changing an element: [10, 2, 3, 4, 5]\n",
            "\n",
            "Original tuple: (1, 2, 3, 4, 5)\n",
            "Attempting to change an element in the tuple failed: 'tuple' object does not support item assignment\n"
          ]
        }
      ]
    },
    {
      "cell_type": "markdown",
      "source": [
        "     6. Write a function to demonstrate the behavior of mutable and immutable arguments.\n"
      ],
      "metadata": {
        "id": "zYfxEbkOBQNd"
      }
    },
    {
      "cell_type": "code",
      "source": [
        "def modify_mutable(my_list):\n",
        "  \"\"\"\n",
        "  Demonstrates the behavior of a mutable argument (list).\n",
        "  Changes made inside the function persist outside.\n",
        "  \"\"\"\n",
        "  my_list.append(4)\n",
        "  print(\"Inside function (mutable):\", my_list)\n",
        "\n",
        "def modify_immutable(my_int):\n",
        "  \"\"\"\n",
        "  Demonstrates the behavior of an immutable argument (integer).\n",
        "  Changes made inside the function do not persist outside.\n",
        "  \"\"\"\n",
        "  my_int += 1\n",
        "  print(\"Inside function (immutable):\", my_int)\n",
        "\n",
        "\n",
        "my_list = [1, 2, 3]\n",
        "print(\"Before function call (mutable):\", my_list)\n",
        "modify_mutable(my_list)\n",
        "print(\"After function call (mutable):\", my_list)\n",
        "\n",
        "print(\"-\" * 20)\n",
        "my_int = 10\n",
        "print(\"Before function call (immutable):\", my_int)\n",
        "modify_immutable(my_int)\n",
        "print(\"After function call (immutable):\", my_int)"
      ],
      "metadata": {
        "colab": {
          "base_uri": "https://localhost:8080/"
        },
        "id": "AfD0INATCDk8",
        "outputId": "0d6b74c7-9d3f-4631-8ebe-e571f8053077"
      },
      "execution_count": 16,
      "outputs": [
        {
          "output_type": "stream",
          "name": "stdout",
          "text": [
            "Before function call (mutable): [1, 2, 3]\n",
            "Inside function (mutable): [1, 2, 3, 4]\n",
            "After function call (mutable): [1, 2, 3, 4]\n",
            "--------------------\n",
            "Before function call (immutable): 10\n",
            "Inside function (immutable): 11\n",
            "After function call (immutable): 10\n"
          ]
        }
      ]
    },
    {
      "cell_type": "markdown",
      "source": [
        "    7.  Write a function to demonstrate the behavior of mutable and immutable arguments."
      ],
      "metadata": {
        "id": "1CUcNXHdCaEl"
      }
    },
    {
      "cell_type": "code",
      "source": [
        "def demonstrate_mutability(mutable_arg, immutable_arg):\n",
        "    \"\"\"\n",
        "    Demonstrates the behavior of mutable and immutable arguments.\n",
        "\n",
        "    Args:\n",
        "        mutable_arg: A mutable object (e.g., list).\n",
        "        immutable_arg: An immutable object (e.g., integer, string, tuple).\n",
        "    \"\"\"\n",
        "    print(\"Inside the function:\")\n",
        "    print(\"Mutable argument before modification:\", mutable_arg)\n",
        "    print(\"Immutable argument before modification:\", immutable_arg)\n",
        "\n",
        "    # Modify the mutable argument\n",
        "    if isinstance(mutable_arg, list):\n",
        "        mutable_arg.append(\"added\")\n",
        "    elif isinstance(mutable_arg, dict):\n",
        "        mutable_arg[\"new_key\"] = \"new_value\"\n",
        "    elif isinstance(mutable_arg, set):\n",
        "        mutable_arg.add(\"added_item\")\n",
        "\n",
        "    # Attempt to \"modify\" the immutable argument (actually creates a new object)\n",
        "    if isinstance(immutable_arg, int):\n",
        "        immutable_arg += 10\n",
        "    elif isinstance(immutable_arg, str):\n",
        "        immutable_arg = immutable_arg + \" modified\"\n",
        "    elif isinstance(immutable_arg, tuple):\n",
        "        # Cannot directly modify a tuple, demonstrate reassignment\n",
        "        immutable_arg = immutable_arg + (4,)\n",
        "\n",
        "    print(\"Mutable argument after modification:\", mutable_arg)\n",
        "    print(\"Immutable argument after attempted modification:\", immutable_arg)\n",
        "    print(\"-\" * 30)\n",
        "\n",
        "# Example usage:\n",
        "my_list = [1, 2, 3]\n",
        "my_int = 5\n",
        "my_string = \"hello\"\n",
        "my_tuple = (1, 2, 3)\n",
        "\n",
        "print(\"Before function call:\")\n",
        "print(\"Original list:\", my_list)\n",
        "print(\"Original integer:\", my_int)\n",
        "print(\"Original string:\", my_string)\n",
        "print(\"Original tuple:\", my_tuple)\n",
        "print(\"-\" * 30)\n",
        "\n",
        "demonstrate_mutability(my_list, my_int)\n",
        "\n",
        "print(\"After function call:\")\n",
        "print(\"List after function call:\", my_list)\n",
        "print(\"Integer after function call:\", my_int)\n",
        "print(\"-\" * 30)\n",
        "\n",
        "demonstrate_mutability(my_list, my_string)\n",
        "print(\"String after function call:\", my_string)\n",
        "print(\"-\" * 30)\n",
        "\n",
        "demonstrate_mutability(my_list, my_tuple)\n",
        "print(\"Tuple after function call:\", my_tuple)\n"
      ],
      "metadata": {
        "colab": {
          "base_uri": "https://localhost:8080/"
        },
        "id": "MtHSf53kDLfU",
        "outputId": "66a045b6-e128-460f-9615-519694998fa8"
      },
      "execution_count": 19,
      "outputs": [
        {
          "output_type": "stream",
          "name": "stdout",
          "text": [
            "Before function call:\n",
            "Original list: [1, 2, 3]\n",
            "Original integer: 5\n",
            "Original string: hello\n",
            "Original tuple: (1, 2, 3)\n",
            "------------------------------\n",
            "Inside the function:\n",
            "Mutable argument before modification: [1, 2, 3]\n",
            "Immutable argument before modification: 5\n",
            "Mutable argument after modification: [1, 2, 3, 'added']\n",
            "Immutable argument after attempted modification: 15\n",
            "------------------------------\n",
            "After function call:\n",
            "List after function call: [1, 2, 3, 'added']\n",
            "Integer after function call: 5\n",
            "------------------------------\n",
            "Inside the function:\n",
            "Mutable argument before modification: [1, 2, 3, 'added']\n",
            "Immutable argument before modification: hello\n",
            "Mutable argument after modification: [1, 2, 3, 'added', 'added']\n",
            "Immutable argument after attempted modification: hello modified\n",
            "------------------------------\n",
            "String after function call: hello\n",
            "------------------------------\n",
            "Inside the function:\n",
            "Mutable argument before modification: [1, 2, 3, 'added', 'added']\n",
            "Immutable argument before modification: (1, 2, 3)\n",
            "Mutable argument after modification: [1, 2, 3, 'added', 'added', 'added']\n",
            "Immutable argument after attempted modification: (1, 2, 3, 4)\n",
            "------------------------------\n",
            "Tuple after function call: (1, 2, 3)\n"
          ]
        }
      ]
    },
    {
      "cell_type": "markdown",
      "source": [
        "    8. Write a program to demonstrate the use of logical operators."
      ],
      "metadata": {
        "id": "hptlwYB6DqdF"
      }
    },
    {
      "cell_type": "code",
      "source": [
        "is_warm = False\n",
        "is_raining = False\n",
        "\n",
        "print(\"Using 'and' operator:\")\n",
        "print(f\"Is it sunny AND warm? {is_sunny and is_warm}\")\n",
        "print(f\"Is it sunny AND not raining? {is_sunny and not is_raining}\")\n",
        "\n",
        "print(\"-\" * 20)\n",
        "\n",
        "print(\"Using 'or' operator:\")\n",
        "print(f\"Is it sunny OR warm? {is_sunny or is_warm}\")\n",
        "print(f\"Is it warm OR raining? {is_warm or is_raining}\")\n",
        "\n",
        "print(\"-\" * 20)\n",
        "\n",
        "print(\"Using 'not' operator:\")\n",
        "print(f\"Is it NOT sunny? {not is_sunny}\")\n",
        "print(f\"Is it NOT raining? {not is_raining}\")\n",
        "\n",
        "print(\"-\" * 20)\n",
        "\n",
        "print(\"Combining logical operators:\")\n",
        "print(f\"(Sunny AND warm) OR raining? {(is_sunny and is_warm) or is_raining}\")\n",
        "print(f\"Sunny AND (warm OR raining)? {is_sunny and (is_warm or is_raining)}\")\n",
        "print(f\"NOT (warm OR raining)? {not (is_warm or is_raining)}\")\n",
        "\n",
        "print(\"-\" * 20)\n",
        "\n",
        "print(\"Logical operators with non-boolean types:\")\n",
        "\n",
        "print(f\"'and' with numbers: {0 and 5}\")\n",
        "print(f\"'and' with numbers: {10 and 20}\")\n",
        "print(f\"'and' with strings: {'hello' and ''}\")\n",
        "print(f\"'and' with strings: {'hello' and 'world'}\")\n",
        "\n",
        "print(\"-\" * 10)\n",
        "\n",
        "print(f\"'or' with numbers: {0 or 5}\")\n",
        "print(f\"'or' with numbers: {10 or 20}\")\n",
        "print(f\"'or' with strings: {'hello' or ''}\")\n",
        "print(f\"'or' with strings: {'' or None}\")\n",
        "\n",
        "print(\"-\" * 10)\n",
        "\n",
        "print(f\"'not' with 0: {not 0}\")\n",
        "print(f\"'not' with 10: {not 10}\")\n",
        "print(f\"'not' with '': {not ''}\")\n",
        "print(f\"'not' with 'abc': {not 'abc'}\")\n",
        "\n",
        "print(\"-\" * 20)\n",
        "\n",
        "temperature = 28\n",
        "is_weekend = True\n",
        "\n",
        "if temperature > 25 and is_weekend:\n",
        "    print(\"It's a hot weekend!\")\n",
        "elif temperature > 20 and is_weekend:\n",
        "    print(\"It's a pleasant weekend.\")\n",
        "elif temperature > 25 or not is_weekend:\n",
        "    print(\"It's hot, might be a weekday.\")\n",
        "else:\n",
        "    print(\"Weather is moderate or it's a weekday.\")\n"
      ],
      "metadata": {
        "colab": {
          "base_uri": "https://localhost:8080/"
        },
        "id": "jSzJe79ZEWk9",
        "outputId": "d6bc5e0a-c4a0-477e-e6be-f71dff61cbfc"
      },
      "execution_count": 21,
      "outputs": [
        {
          "output_type": "stream",
          "name": "stdout",
          "text": [
            "Using 'and' operator:\n",
            "Is it sunny AND warm? False\n",
            "Is it sunny AND not raining? True\n",
            "--------------------\n",
            "Using 'or' operator:\n",
            "Is it sunny OR warm? True\n",
            "Is it warm OR raining? False\n",
            "--------------------\n",
            "Using 'not' operator:\n",
            "Is it NOT sunny? False\n",
            "Is it NOT raining? True\n",
            "--------------------\n",
            "Combining logical operators:\n",
            "(Sunny AND warm) OR raining? False\n",
            "Sunny AND (warm OR raining)? False\n",
            "NOT (warm OR raining)? True\n",
            "--------------------\n",
            "Logical operators with non-boolean types:\n",
            "'and' with numbers: 0\n",
            "'and' with numbers: 20\n",
            "'and' with strings: \n",
            "'and' with strings: world\n",
            "----------\n",
            "'or' with numbers: 5\n",
            "'or' with numbers: 10\n",
            "'or' with strings: hello\n",
            "'or' with strings: None\n",
            "----------\n",
            "'not' with 0: True\n",
            "'not' with 10: False\n",
            "'not' with '': True\n",
            "'not' with 'abc': False\n",
            "--------------------\n",
            "It's a hot weekend!\n"
          ]
        }
      ]
    },
    {
      "cell_type": "markdown",
      "source": [
        "    9. Write a Python program to convert user input from string to integer, float, and boolean types."
      ],
      "metadata": {
        "id": "KE34DWTwFhmd"
      }
    },
    {
      "cell_type": "code",
      "source": [
        "user_input_str = input(\"Enter a value (string, integer, float, or boolean representation): \")\n",
        "\n",
        "try:\n",
        "    user_int = int(user_input_str)\n",
        "    print(f\"Converted to Integer: {user_int} (Type: {type(user_int)})\")\n",
        "except ValueError:\n",
        "    print(f\"Cannot convert '{user_input_str}' to Integer.\")\n",
        "\n",
        "try:\n",
        "    user_float = float(user_input_str)\n",
        "    print(f\"Converted to Float: {user_float} (Type: {type(user_float)})\")\n",
        "except ValueError:\n",
        "    print(f\"Cannot convert '{user_input_str}' to Float.\")\n",
        "\n",
        "user_bool_lower = user_input_str.lower()\n",
        "if user_bool_lower == 'true':\n",
        "    user_bool = True\n",
        "    print(f\"Converted to Boolean: {user_bool} (Type: {type(user_bool)})\")\n",
        "elif user_bool_lower == 'false':\n",
        "    user_bool = False\n",
        "    print(f\"Converted to Boolean: {user_bool} (Type: {type(user_bool)})\")\n",
        "else:\n",
        "    user_bool_truthy = bool(user_input_str)\n",
        "    print(f\"Converted to Boolean (truthiness): {user_bool_truthy} (Type: {type(user_bool_truthy)})\")\n",
        "    print(f\"(Based on the truthiness of the input string '{user_input_str}')\")"
      ],
      "metadata": {
        "colab": {
          "base_uri": "https://localhost:8080/"
        },
        "id": "JLUCy-4EF6Zt",
        "outputId": "2892e258-e6ed-4e46-8e33-6aa669c4d4e7"
      },
      "execution_count": 23,
      "outputs": [
        {
          "output_type": "stream",
          "name": "stdout",
          "text": [
            "Enter a value (string, integer, float, or boolean representation): 2\n",
            "Converted to Integer: 2 (Type: <class 'int'>)\n",
            "Converted to Float: 2.0 (Type: <class 'float'>)\n",
            "Converted to Boolean (truthiness): True (Type: <class 'bool'>)\n",
            "(Based on the truthiness of the input string '2')\n"
          ]
        }
      ]
    },
    {
      "cell_type": "markdown",
      "source": [
        "    10. Write code to demonstrate type casting with list elements."
      ],
      "metadata": {
        "id": "-P0yK4AzGb3l"
      }
    },
    {
      "cell_type": "code",
      "source": [
        "my_list = [\"1\", \"2\", \"3\", \"4.5\", \"True\"]\n",
        "\n",
        "print(\"Original list:\", my_list)\n",
        "print(\"Types of original elements:\")\n",
        "for item in my_list:\n",
        "    print(f\"{item}: {type(item)}\")\n",
        "\n",
        "int_list = []\n",
        "for item in my_list:\n",
        "    try:\n",
        "        int_list.append(int(item))\n",
        "    except ValueError:\n",
        "        int_list.append(None)\n",
        "print(\"\\nList after casting to integers (where possible):\", int_list)\n",
        "print(\"Types of integer list elements:\")\n",
        "for item in int_list:\n",
        "    print(f\"{item}: {type(item)}\")\n",
        "\n",
        "float_list = [float(item) for item in my_list if item.replace('.', '', 1).isdigit()]\n",
        "print(\"\\nList after casting to floats:\", float_list)\n",
        "print(\"Types of float list elements:\")\n",
        "for item in float_list:\n",
        "    print(f\"{item}: {type(item)}\")\n",
        "\n",
        "str_list = [str(item) for item in my_list]\n",
        "print(\"\\nList after casting to strings:\", str_list)\n",
        "print(\"Types of string list elements:\")\n",
        "for item in str_list:\n",
        "    print(f\"{item}: {type(item)}\")\n",
        "\n",
        "bool_list = [bool(item) for item in my_list]\n",
        "print(\"\\nList after casting to booleans (based on truthiness):\", bool_list)\n",
        "print(\"Types of boolean list elements:\")\n",
        "for item in bool_list:\n",
        "    print(f\"{item}: {type(item)}\")\n",
        "\n",
        "another_list = [\"apple\", \"123\", \"99.9\", \"False\"]\n",
        "print(\"\\nAnother list:\", another_list)\n",
        "\n",
        "cast_list = [\n",
        "    str(another_list[0]),\n",
        "    int(another_list[1]),\n",
        "    float(another_list[2]),\n",
        "    bool(another_list[3])\n",
        "]\n",
        "print(\"\\nList after explicit casting of specific elements:\", cast_list)\n",
        "my_list = [\"1\", \"2\", \"3\", \"4.5\", \"True\"]\n",
        "\n",
        "print(\"Original list:\", my_list)\n",
        "print(\"Types of original elements:\")\n",
        "for item in my_list:\n",
        "    print(f\"{item}: {type(item)}\")\n",
        "\n",
        "\n",
        "int_list = []\n",
        "for item in my_list:\n",
        "    try:\n",
        "        int_list.append(int(item))\n",
        "    except ValueError:\n",
        "        int_list.append(None)\n",
        "print(\"\\nList after casting to integers (where possible):\", int_list)\n",
        "print(\"Types of integer list elements:\")\n",
        "for item in int_list:\n",
        "    print(f\"{item}: {type(item)}\")\n",
        "\n",
        "\n",
        "\n",
        "float_list = [float(item) for item in my_list if item.replace('.', '', 1).isdigit()]\n",
        "print(\"\\nList after casting to floats:\", float_list)\n",
        "print(\"Types of float list elements:\")\n",
        "for item in float_list:\n",
        "    print(f\"{item}: {type(item)}\")\n",
        "\n",
        "\n",
        "str_list = [str(item) for item in my_list]\n",
        "print(\"\\nList after casting to strings:\", str_list)\n",
        "print(\"Types of string list elements:\")\n",
        "for item in str_list:\n",
        "    print(f\"{item}: {type(item)}\")\n",
        "\n",
        "\n",
        "bool_list = [bool(item) for item in my_list]\n",
        "print(\"\\nList after casting to booleans (based on truthiness):\", bool_list)\n",
        "print(\"Types of boolean list elements:\")\n",
        "for item in bool_list:\n",
        "    print(f\"{item}: {type(item)}\")\n",
        "\n",
        "\n",
        "another_list = [\"apple\", \"123\", \"99.9\", \"False\"]\n",
        "print(\"\\nAnother list:\", another_list)\n",
        "\n",
        "cast_list = [\n",
        "    str(another_list[0]),\n",
        "    int(another_list[1]),\n",
        "    float(another_list[2]),\n",
        "    bool(another_list[3])\n",
        "]\n",
        "print(\"\\nList after explicit casting of specific elements:\", cast_list)\n",
        "print(\"Types of explicitly cast elements:\")\n",
        "for item in cast_list:\n",
        "    print(f\"{item}: {type(item)}\")"
      ],
      "metadata": {
        "colab": {
          "base_uri": "https://localhost:8080/"
        },
        "id": "crt37s0lHEVl",
        "outputId": "e4aae809-707e-4bdc-bbfa-668240c6a6c5"
      },
      "execution_count": 28,
      "outputs": [
        {
          "output_type": "stream",
          "name": "stdout",
          "text": [
            "Original list: ['1', '2', '3', '4.5', 'True']\n",
            "Types of original elements:\n",
            "1: <class 'str'>\n",
            "2: <class 'str'>\n",
            "3: <class 'str'>\n",
            "4.5: <class 'str'>\n",
            "True: <class 'str'>\n",
            "\n",
            "List after casting to integers (where possible): [1, 2, 3, None, None]\n",
            "Types of integer list elements:\n",
            "1: <class 'int'>\n",
            "2: <class 'int'>\n",
            "3: <class 'int'>\n",
            "None: <class 'NoneType'>\n",
            "None: <class 'NoneType'>\n",
            "\n",
            "List after casting to floats: [1.0, 2.0, 3.0, 4.5]\n",
            "Types of float list elements:\n",
            "1.0: <class 'float'>\n",
            "2.0: <class 'float'>\n",
            "3.0: <class 'float'>\n",
            "4.5: <class 'float'>\n",
            "\n",
            "List after casting to strings: ['1', '2', '3', '4.5', 'True']\n",
            "Types of string list elements:\n",
            "1: <class 'str'>\n",
            "2: <class 'str'>\n",
            "3: <class 'str'>\n",
            "4.5: <class 'str'>\n",
            "True: <class 'str'>\n",
            "\n",
            "List after casting to booleans (based on truthiness): [True, True, True, True, True]\n",
            "Types of boolean list elements:\n",
            "True: <class 'bool'>\n",
            "True: <class 'bool'>\n",
            "True: <class 'bool'>\n",
            "True: <class 'bool'>\n",
            "True: <class 'bool'>\n",
            "\n",
            "Another list: ['apple', '123', '99.9', 'False']\n",
            "\n",
            "List after explicit casting of specific elements: ['apple', 123, 99.9, True]\n",
            "Original list: ['1', '2', '3', '4.5', 'True']\n",
            "Types of original elements:\n",
            "1: <class 'str'>\n",
            "2: <class 'str'>\n",
            "3: <class 'str'>\n",
            "4.5: <class 'str'>\n",
            "True: <class 'str'>\n",
            "\n",
            "List after casting to integers (where possible): [1, 2, 3, None, None]\n",
            "Types of integer list elements:\n",
            "1: <class 'int'>\n",
            "2: <class 'int'>\n",
            "3: <class 'int'>\n",
            "None: <class 'NoneType'>\n",
            "None: <class 'NoneType'>\n",
            "\n",
            "List after casting to floats: [1.0, 2.0, 3.0, 4.5]\n",
            "Types of float list elements:\n",
            "1.0: <class 'float'>\n",
            "2.0: <class 'float'>\n",
            "3.0: <class 'float'>\n",
            "4.5: <class 'float'>\n",
            "\n",
            "List after casting to strings: ['1', '2', '3', '4.5', 'True']\n",
            "Types of string list elements:\n",
            "1: <class 'str'>\n",
            "2: <class 'str'>\n",
            "3: <class 'str'>\n",
            "4.5: <class 'str'>\n",
            "True: <class 'str'>\n",
            "\n",
            "List after casting to booleans (based on truthiness): [True, True, True, True, True]\n",
            "Types of boolean list elements:\n",
            "True: <class 'bool'>\n",
            "True: <class 'bool'>\n",
            "True: <class 'bool'>\n",
            "True: <class 'bool'>\n",
            "True: <class 'bool'>\n",
            "\n",
            "Another list: ['apple', '123', '99.9', 'False']\n",
            "\n",
            "List after explicit casting of specific elements: ['apple', 123, 99.9, True]\n",
            "Types of explicitly cast elements:\n",
            "apple: <class 'str'>\n",
            "123: <class 'int'>\n",
            "99.9: <class 'float'>\n",
            "True: <class 'bool'>\n"
          ]
        }
      ]
    },
    {
      "cell_type": "markdown",
      "source": [
        "    11. Write a program that checks if a number is positive, negative, or zero."
      ],
      "metadata": {
        "id": "eEpIwFr6H2xd"
      }
    },
    {
      "cell_type": "code",
      "source": [
        "num = float(input(\"Enter a number: \"))\n",
        "\n",
        "if num > 0:\n",
        "  print(f\"{2} is a positive number.\")\n",
        "elif num < 0:\n",
        "  print(f\"{2} is a negative number.\")\n",
        "else:\n",
        "  print(f\"{2} is zero.\")"
      ],
      "metadata": {
        "colab": {
          "base_uri": "https://localhost:8080/"
        },
        "id": "48T4q8g5INbE",
        "outputId": "11235746-e246-4117-d38a-d71819cd9872"
      },
      "execution_count": 30,
      "outputs": [
        {
          "output_type": "stream",
          "name": "stdout",
          "text": [
            "Enter a number: 2\n",
            "2 is a positive number.\n"
          ]
        }
      ]
    },
    {
      "cell_type": "markdown",
      "source": [
        "    12. Write a for loop to print numbers from 1 to 100."
      ],
      "metadata": {
        "id": "EoBK39WBI0cl"
      }
    },
    {
      "cell_type": "code",
      "source": [
        "for i in range(1, 101):\n",
        "    print(i)"
      ],
      "metadata": {
        "colab": {
          "base_uri": "https://localhost:8080/"
        },
        "id": "iC0QkpsgKM9U",
        "outputId": "48dbdf72-b1c4-4c8f-e214-4c7629a60c9d"
      },
      "execution_count": 48,
      "outputs": [
        {
          "output_type": "stream",
          "name": "stdout",
          "text": [
            "1\n",
            "2\n",
            "3\n",
            "4\n",
            "5\n",
            "6\n",
            "7\n",
            "8\n",
            "9\n",
            "10\n",
            "11\n",
            "12\n",
            "13\n",
            "14\n",
            "15\n",
            "16\n",
            "17\n",
            "18\n",
            "19\n",
            "20\n",
            "21\n",
            "22\n",
            "23\n",
            "24\n",
            "25\n",
            "26\n",
            "27\n",
            "28\n",
            "29\n",
            "30\n",
            "31\n",
            "32\n",
            "33\n",
            "34\n",
            "35\n",
            "36\n",
            "37\n",
            "38\n",
            "39\n",
            "40\n",
            "41\n",
            "42\n",
            "43\n",
            "44\n",
            "45\n",
            "46\n",
            "47\n",
            "48\n",
            "49\n",
            "50\n",
            "51\n",
            "52\n",
            "53\n",
            "54\n",
            "55\n",
            "56\n",
            "57\n",
            "58\n",
            "59\n",
            "60\n",
            "61\n",
            "62\n",
            "63\n",
            "64\n",
            "65\n",
            "66\n",
            "67\n",
            "68\n",
            "69\n",
            "70\n",
            "71\n",
            "72\n",
            "73\n",
            "74\n",
            "75\n",
            "76\n",
            "77\n",
            "78\n",
            "79\n",
            "80\n",
            "81\n",
            "82\n",
            "83\n",
            "84\n",
            "85\n",
            "86\n",
            "87\n",
            "88\n",
            "89\n",
            "90\n",
            "91\n",
            "92\n",
            "93\n",
            "94\n",
            "95\n",
            "96\n",
            "97\n",
            "98\n",
            "99\n",
            "100\n"
          ]
        }
      ]
    },
    {
      "cell_type": "markdown",
      "source": [
        "    13. Write a Python program to find the sum of all even numbers between 1 and 500.\n"
      ],
      "metadata": {
        "id": "o-cLxDacLA0k"
      }
    },
    {
      "cell_type": "code",
      "source": [
        "sum_of_evens = 0\n",
        "for number in range(2, 501, 2):\n",
        "    sum_of_evens += number\n",
        "\n",
        "print(\"The sum of all even numbers between 1 and 500 is:\", sum_of_evens)"
      ],
      "metadata": {
        "colab": {
          "base_uri": "https://localhost:8080/"
        },
        "id": "lTioCB6_LTs8",
        "outputId": "19a7bbcd-1035-4734-ea4c-8046e74fb5cd"
      },
      "execution_count": 49,
      "outputs": [
        {
          "output_type": "stream",
          "name": "stdout",
          "text": [
            "The sum of all even numbers between 1 and 500 is: 62750\n"
          ]
        }
      ]
    },
    {
      "cell_type": "markdown",
      "source": [
        "    14. Write a program to reverse a string using a while loop."
      ],
      "metadata": {
        "id": "CRYrS1o7LfwM"
      }
    },
    {
      "cell_type": "code",
      "source": [
        "input_string = \"hello world\"\n",
        "reversed_string = \"\"\n",
        "index = len(input_string) - 1\n",
        "\n",
        "while index >= 0:\n",
        "  reversed_string += input_string[index]\n",
        "  index -= 1\n",
        "\n",
        "print(f\"Original string: {input_string}\")\n",
        "print(f\"Reversed string: {reversed_string}\")"
      ],
      "metadata": {
        "colab": {
          "base_uri": "https://localhost:8080/"
        },
        "id": "njRSLvU8Lvs0",
        "outputId": "31a8966d-bc5f-437d-daba-3241b25896e7"
      },
      "execution_count": 50,
      "outputs": [
        {
          "output_type": "stream",
          "name": "stdout",
          "text": [
            "Original string: hello world\n",
            "Reversed string: dlrow olleh\n"
          ]
        }
      ]
    },
    {
      "cell_type": "markdown",
      "source": [
        "    15. Write a Python program to calculate the factorial of a number provided by the user using a while loop.\n"
      ],
      "metadata": {
        "id": "iUJQHLIUL__U"
      }
    },
    {
      "cell_type": "code",
      "source": [
        "num = int(input(\"Enter a non-negative integer to calculate its factorial: \"))\n",
        "\n",
        "if num < 0:\n",
        "    print(\"Factorial is not defined for negative numbers.\")\n",
        "elif num == 0:\n",
        "    print(\"The factorial of 0 is 1.\")\n",
        "else:\n",
        "    factorial = 1\n",
        "    count = 1\n",
        "    while count <= num:\n",
        "        factorial *= count\n",
        "        count += 1\n",
        "    print(f\"The factorial of {num} is {factorial}\")"
      ],
      "metadata": {
        "colab": {
          "base_uri": "https://localhost:8080/"
        },
        "id": "UtpaJp3OMS3k",
        "outputId": "cd09e2f1-3308-40d1-9b1a-fb02c3079b23"
      },
      "execution_count": 51,
      "outputs": [
        {
          "output_type": "stream",
          "name": "stdout",
          "text": [
            "Enter a non-negative integer to calculate its factorial: 25\n",
            "The factorial of 25 is 15511210043330985984000000\n"
          ]
        }
      ]
    }
  ]
}